{
 "cells": [
  {
   "cell_type": "markdown",
   "metadata": {},
   "source": [
    "The Food Composition is collection the normal chinese food composition. The data from the 《中国食物成分表标准版(第6版)》. The data extract by the https://github.com/Sanotsu/china-food-composition-data. Here is a script to merge the data into one file csv file form the multiply json file. \n",
    "\n",
    "> all the data unit is 100g."
   ]
  },
  {
   "cell_type": "code",
   "execution_count": 4,
   "metadata": {},
   "outputs": [],
   "source": [
    "import pandas as pd\n",
    "import json\n",
    "import glob\n",
    "\n",
    "# Define the columns you want to include in the CSV\n",
    "columns = [\"foodName\", \"CHO\", \"protein\", \"fat\"]\n",
    "\n",
    "# Initialize an empty DataFrame with the specified columns\n",
    "merged_df = pd.DataFrame(columns=columns)\n",
    "\n",
    "# Read all JSON files in the directory\n",
    "json_files = glob.glob(\"data/food_composition/*.json\")\n",
    "\n",
    "for file in json_files:\n",
    "    with open(file, \"r\", encoding=\"utf-8\") as f:\n",
    "        data = json.load(f)\n",
    "        # Convert JSON data to DataFrame\n",
    "        df = pd.DataFrame(data)\n",
    "        # Select only the specified columns\n",
    "        df = df[columns]\n",
    "        # Append to the merged DataFrame\n",
    "        merged_df = pd.concat([merged_df, df], ignore_index=True)\n",
    "\n",
    "# Save the merged DataFrame to a CSV file\n",
    "merged_df.to_csv(\"data/food.csv\", index=False, encoding=\"utf-8-sig\")"
   ]
  }
 ],
 "metadata": {
  "kernelspec": {
   "display_name": "misc",
   "language": "python",
   "name": "python3"
  },
  "language_info": {
   "codemirror_mode": {
    "name": "ipython",
    "version": 3
   },
   "file_extension": ".py",
   "mimetype": "text/x-python",
   "name": "python",
   "nbconvert_exporter": "python",
   "pygments_lexer": "ipython3",
   "version": "3.11.9"
  }
 },
 "nbformat": 4,
 "nbformat_minor": 2
}
